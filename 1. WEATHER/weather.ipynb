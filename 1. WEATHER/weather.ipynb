{
 "cells": [
  {
   "cell_type": "markdown",
   "metadata": {},
   "source": [
    "# `Project: Explore Weather Trends`"
   ]
  },
  {
   "cell_type": "markdown",
   "metadata": {},
   "source": [
    "### NAME : SWATI CHANCHAL \n",
    "### DATE : 7th July 2020\n",
    "### COUNTRY : INDIA"
   ]
  },
  {
   "cell_type": "markdown",
   "metadata": {},
   "source": [
    "## `OUTLINE :`\n",
    "\n",
    "### STEP 1 : Data Extraction \n",
    "- For Data Extraction I used `SQL` , below is code attached .\n",
    "- From city_data file I extract the data of my City i.e Delhi ,India .\n",
    "\n",
    "### STEP 2 : Open the data set \n",
    "- I used `Python` to access the data and visualize the data (data frame) .\n",
    "- load dataset into jupyter notebook using Python Library `Pandas `  Command : `.read_csv`\n",
    "\n",
    "### STEP 3 : Calculating Moving Average \n",
    "- for this calculation I used `Python Command .`\n",
    "- Using Python Command  `.rolling()` and `.mean()`\n",
    "- Series.rolling(self, window, min_periods=None, center=False, win_type=None, on=None, axis=0, closed=None)\n",
    "- In Rolling method : Parameters which I have taken is :\n",
    "- window : Size of the moving window. This is the number of observations used for calculating the statistic. Each window will be a fixed size. \n",
    "- win_type : Provide a window type .\n",
    "\n",
    "\n",
    "### STEP 4 : Line Chart \n",
    "- for creating line chart I used Python Library `Matplotlib .`\n",
    "- for line chart I used `plt.plot()` method .\n",
    "- This step has to be done to visualize the trend of the data for both Local and Global .\n",
    "- For visualize the trends using Line Chart , the best method which according to me PLOT Method of MATPLOTLIB Library . this shows the Linear Relationship of the variations of data .\n",
    "\n",
    "### STEP 5 : Observation\n",
    "- At the end of the code I mentioned my 4 observations .\n",
    "- My observations has been made on the basis on Average Temperature Graph , and the comparision between both the Trends ."
   ]
  },
  {
   "cell_type": "markdown",
   "metadata": {},
   "source": [
    "##  ` 1. Extract the data : `"
   ]
  },
  {
   "cell_type": "markdown",
   "metadata": {},
   "source": [
    "### SQL CODE :\n",
    "\n",
    "\n",
    "SELECT * \n",
    "\n",
    "from global_data;\n",
    "\n",
    "SELECT * \n",
    "\n",
    "from city_list;\n",
    "\n",
    "SELECT * \n",
    "\n",
    "from city_data\n",
    "\n",
    "where country = 'India' and city = 'Delhi' ;"
   ]
  },
  {
   "cell_type": "markdown",
   "metadata": {},
   "source": [
    "## ` 2. Open up the CSV :`"
   ]
  },
  {
   "cell_type": "markdown",
   "metadata": {},
   "source": [
    "### Importing neccessary libraries"
   ]
  },
  {
   "cell_type": "code",
   "execution_count": 1,
   "metadata": {},
   "outputs": [
    {
     "name": "stderr",
     "output_type": "stream",
     "text": [
      "UsageError: Line magic function `%` not found.\n"
     ]
    }
   ],
   "source": [
    "import pandas as pd\n",
    "import numpy as np\n",
    "import matplotlib.pyplot as plt\n",
    "% matplotlib inline"
   ]
  },
  {
   "cell_type": "markdown",
   "metadata": {},
   "source": [
    "### Importing the data "
   ]
  },
  {
   "cell_type": "code",
   "execution_count": 3,
   "metadata": {},
   "outputs": [],
   "source": [
    "glob = pd.read_csv('global_data.csv')\n",
    "local = pd.read_csv('delhi_data.csv')"
   ]
  },
  {
   "cell_type": "code",
   "execution_count": 4,
   "metadata": {},
   "outputs": [
    {
     "data": {
      "text/html": [
       "<div>\n",
       "<style scoped>\n",
       "    .dataframe tbody tr th:only-of-type {\n",
       "        vertical-align: middle;\n",
       "    }\n",
       "\n",
       "    .dataframe tbody tr th {\n",
       "        vertical-align: top;\n",
       "    }\n",
       "\n",
       "    .dataframe thead th {\n",
       "        text-align: right;\n",
       "    }\n",
       "</style>\n",
       "<table border=\"1\" class=\"dataframe\">\n",
       "  <thead>\n",
       "    <tr style=\"text-align: right;\">\n",
       "      <th></th>\n",
       "      <th>year</th>\n",
       "      <th>avg_temp</th>\n",
       "    </tr>\n",
       "  </thead>\n",
       "  <tbody>\n",
       "    <tr>\n",
       "      <th>0</th>\n",
       "      <td>1808.0</td>\n",
       "      <td>7.63</td>\n",
       "    </tr>\n",
       "    <tr>\n",
       "      <th>1</th>\n",
       "      <td>1809.0</td>\n",
       "      <td>7.08</td>\n",
       "    </tr>\n",
       "    <tr>\n",
       "      <th>2</th>\n",
       "      <td>1810.0</td>\n",
       "      <td>6.92</td>\n",
       "    </tr>\n",
       "    <tr>\n",
       "      <th>3</th>\n",
       "      <td>1811.0</td>\n",
       "      <td>6.86</td>\n",
       "    </tr>\n",
       "    <tr>\n",
       "      <th>4</th>\n",
       "      <td>1812.0</td>\n",
       "      <td>7.05</td>\n",
       "    </tr>\n",
       "    <tr>\n",
       "      <th>...</th>\n",
       "      <td>...</td>\n",
       "      <td>...</td>\n",
       "    </tr>\n",
       "    <tr>\n",
       "      <th>261</th>\n",
       "      <td>NaN</td>\n",
       "      <td>NaN</td>\n",
       "    </tr>\n",
       "    <tr>\n",
       "      <th>262</th>\n",
       "      <td>NaN</td>\n",
       "      <td>NaN</td>\n",
       "    </tr>\n",
       "    <tr>\n",
       "      <th>263</th>\n",
       "      <td>NaN</td>\n",
       "      <td>NaN</td>\n",
       "    </tr>\n",
       "    <tr>\n",
       "      <th>264</th>\n",
       "      <td>2014.0</td>\n",
       "      <td>9.57</td>\n",
       "    </tr>\n",
       "    <tr>\n",
       "      <th>265</th>\n",
       "      <td>2015.0</td>\n",
       "      <td>9.83</td>\n",
       "    </tr>\n",
       "  </tbody>\n",
       "</table>\n",
       "<p>266 rows × 2 columns</p>\n",
       "</div>"
      ],
      "text/plain": [
       "       year  avg_temp\n",
       "0    1808.0      7.63\n",
       "1    1809.0      7.08\n",
       "2    1810.0      6.92\n",
       "3    1811.0      6.86\n",
       "4    1812.0      7.05\n",
       "..      ...       ...\n",
       "261     NaN       NaN\n",
       "262     NaN       NaN\n",
       "263     NaN       NaN\n",
       "264  2014.0      9.57\n",
       "265  2015.0      9.83\n",
       "\n",
       "[266 rows x 2 columns]"
      ]
     },
     "execution_count": 4,
     "metadata": {},
     "output_type": "execute_result"
    }
   ],
   "source": [
    "glob"
   ]
  },
  {
   "cell_type": "code",
   "execution_count": 5,
   "metadata": {},
   "outputs": [
    {
     "data": {
      "text/html": [
       "<div>\n",
       "<style scoped>\n",
       "    .dataframe tbody tr th:only-of-type {\n",
       "        vertical-align: middle;\n",
       "    }\n",
       "\n",
       "    .dataframe tbody tr th {\n",
       "        vertical-align: top;\n",
       "    }\n",
       "\n",
       "    .dataframe thead th {\n",
       "        text-align: right;\n",
       "    }\n",
       "</style>\n",
       "<table border=\"1\" class=\"dataframe\">\n",
       "  <thead>\n",
       "    <tr style=\"text-align: right;\">\n",
       "      <th></th>\n",
       "      <th>year</th>\n",
       "      <th>city</th>\n",
       "      <th>country</th>\n",
       "      <th>avg_temp</th>\n",
       "    </tr>\n",
       "  </thead>\n",
       "  <tbody>\n",
       "    <tr>\n",
       "      <th>0</th>\n",
       "      <td>1796</td>\n",
       "      <td>Delhi</td>\n",
       "      <td>India</td>\n",
       "      <td>25.03</td>\n",
       "    </tr>\n",
       "    <tr>\n",
       "      <th>1</th>\n",
       "      <td>1797</td>\n",
       "      <td>Delhi</td>\n",
       "      <td>India</td>\n",
       "      <td>26.71</td>\n",
       "    </tr>\n",
       "    <tr>\n",
       "      <th>2</th>\n",
       "      <td>1798</td>\n",
       "      <td>Delhi</td>\n",
       "      <td>India</td>\n",
       "      <td>24.29</td>\n",
       "    </tr>\n",
       "    <tr>\n",
       "      <th>3</th>\n",
       "      <td>1799</td>\n",
       "      <td>Delhi</td>\n",
       "      <td>India</td>\n",
       "      <td>25.28</td>\n",
       "    </tr>\n",
       "    <tr>\n",
       "      <th>4</th>\n",
       "      <td>1800</td>\n",
       "      <td>Delhi</td>\n",
       "      <td>India</td>\n",
       "      <td>25.21</td>\n",
       "    </tr>\n",
       "    <tr>\n",
       "      <th>...</th>\n",
       "      <td>...</td>\n",
       "      <td>...</td>\n",
       "      <td>...</td>\n",
       "      <td>...</td>\n",
       "    </tr>\n",
       "    <tr>\n",
       "      <th>213</th>\n",
       "      <td>2009</td>\n",
       "      <td>Delhi</td>\n",
       "      <td>India</td>\n",
       "      <td>26.55</td>\n",
       "    </tr>\n",
       "    <tr>\n",
       "      <th>214</th>\n",
       "      <td>2010</td>\n",
       "      <td>Delhi</td>\n",
       "      <td>India</td>\n",
       "      <td>26.52</td>\n",
       "    </tr>\n",
       "    <tr>\n",
       "      <th>215</th>\n",
       "      <td>2011</td>\n",
       "      <td>Delhi</td>\n",
       "      <td>India</td>\n",
       "      <td>25.63</td>\n",
       "    </tr>\n",
       "    <tr>\n",
       "      <th>216</th>\n",
       "      <td>2012</td>\n",
       "      <td>Delhi</td>\n",
       "      <td>India</td>\n",
       "      <td>25.89</td>\n",
       "    </tr>\n",
       "    <tr>\n",
       "      <th>217</th>\n",
       "      <td>2013</td>\n",
       "      <td>Delhi</td>\n",
       "      <td>India</td>\n",
       "      <td>26.71</td>\n",
       "    </tr>\n",
       "  </tbody>\n",
       "</table>\n",
       "<p>218 rows × 4 columns</p>\n",
       "</div>"
      ],
      "text/plain": [
       "     year   city country  avg_temp\n",
       "0    1796  Delhi   India     25.03\n",
       "1    1797  Delhi   India     26.71\n",
       "2    1798  Delhi   India     24.29\n",
       "3    1799  Delhi   India     25.28\n",
       "4    1800  Delhi   India     25.21\n",
       "..    ...    ...     ...       ...\n",
       "213  2009  Delhi   India     26.55\n",
       "214  2010  Delhi   India     26.52\n",
       "215  2011  Delhi   India     25.63\n",
       "216  2012  Delhi   India     25.89\n",
       "217  2013  Delhi   India     26.71\n",
       "\n",
       "[218 rows x 4 columns]"
      ]
     },
     "execution_count": 5,
     "metadata": {},
     "output_type": "execute_result"
    }
   ],
   "source": [
    "local"
   ]
  },
  {
   "cell_type": "code",
   "execution_count": 7,
   "metadata": {},
   "outputs": [
    {
     "data": {
      "text/plain": [
       "year        58\n",
       "avg_temp    58\n",
       "dtype: int64"
      ]
     },
     "execution_count": 7,
     "metadata": {},
     "output_type": "execute_result"
    }
   ],
   "source": [
    "glob.isna().sum()"
   ]
  },
  {
   "cell_type": "code",
   "execution_count": 8,
   "metadata": {},
   "outputs": [
    {
     "data": {
      "text/plain": [
       "year         0\n",
       "city         0\n",
       "country      0\n",
       "avg_temp    17\n",
       "dtype: int64"
      ]
     },
     "execution_count": 8,
     "metadata": {},
     "output_type": "execute_result"
    }
   ],
   "source": [
    "local.isna().sum()"
   ]
  },
  {
   "cell_type": "markdown",
   "metadata": {},
   "source": [
    "#### Copying the Original Data for further operations :"
   ]
  },
  {
   "cell_type": "code",
   "execution_count": 9,
   "metadata": {},
   "outputs": [],
   "source": [
    "df1 = glob.copy()"
   ]
  },
  {
   "cell_type": "code",
   "execution_count": 10,
   "metadata": {},
   "outputs": [],
   "source": [
    "df2=local.copy()"
   ]
  },
  {
   "cell_type": "markdown",
   "metadata": {},
   "source": [
    "## ` 3. Calculating Moving Average for the Global data and Local data :`\n",
    "\n",
    "#### Using Python Command  `.rolling()` and `.mean()`\n",
    "\n",
    "#### Series.rolling(self, window, min_periods=None, center=False, win_type=None, on=None, axis=0, closed=None)"
   ]
  },
  {
   "cell_type": "code",
   "execution_count": 15,
   "metadata": {},
   "outputs": [],
   "source": [
    "df1['mov_avg_temp'] = df1['avg_temp'].rolling(10, win_type ='triang').mean()"
   ]
  },
  {
   "cell_type": "code",
   "execution_count": 16,
   "metadata": {},
   "outputs": [],
   "source": [
    "df2['mov_avg_temp'] = df2['avg_temp'].rolling(10, win_type ='triang').mean()"
   ]
  },
  {
   "cell_type": "code",
   "execution_count": 17,
   "metadata": {},
   "outputs": [
    {
     "data": {
      "text/html": [
       "<div>\n",
       "<style scoped>\n",
       "    .dataframe tbody tr th:only-of-type {\n",
       "        vertical-align: middle;\n",
       "    }\n",
       "\n",
       "    .dataframe tbody tr th {\n",
       "        vertical-align: top;\n",
       "    }\n",
       "\n",
       "    .dataframe thead th {\n",
       "        text-align: right;\n",
       "    }\n",
       "</style>\n",
       "<table border=\"1\" class=\"dataframe\">\n",
       "  <thead>\n",
       "    <tr style=\"text-align: right;\">\n",
       "      <th></th>\n",
       "      <th>year</th>\n",
       "      <th>avg_temp</th>\n",
       "      <th>mov_avg_temp</th>\n",
       "    </tr>\n",
       "  </thead>\n",
       "  <tbody>\n",
       "    <tr>\n",
       "      <th>0</th>\n",
       "      <td>1808.0</td>\n",
       "      <td>7.63</td>\n",
       "      <td>NaN</td>\n",
       "    </tr>\n",
       "    <tr>\n",
       "      <th>1</th>\n",
       "      <td>1809.0</td>\n",
       "      <td>7.08</td>\n",
       "      <td>NaN</td>\n",
       "    </tr>\n",
       "    <tr>\n",
       "      <th>2</th>\n",
       "      <td>1810.0</td>\n",
       "      <td>6.92</td>\n",
       "      <td>NaN</td>\n",
       "    </tr>\n",
       "    <tr>\n",
       "      <th>3</th>\n",
       "      <td>1811.0</td>\n",
       "      <td>6.86</td>\n",
       "      <td>NaN</td>\n",
       "    </tr>\n",
       "    <tr>\n",
       "      <th>4</th>\n",
       "      <td>1812.0</td>\n",
       "      <td>7.05</td>\n",
       "      <td>NaN</td>\n",
       "    </tr>\n",
       "    <tr>\n",
       "      <th>...</th>\n",
       "      <td>...</td>\n",
       "      <td>...</td>\n",
       "      <td>...</td>\n",
       "    </tr>\n",
       "    <tr>\n",
       "      <th>261</th>\n",
       "      <td>NaN</td>\n",
       "      <td>NaN</td>\n",
       "      <td>NaN</td>\n",
       "    </tr>\n",
       "    <tr>\n",
       "      <th>262</th>\n",
       "      <td>NaN</td>\n",
       "      <td>NaN</td>\n",
       "      <td>NaN</td>\n",
       "    </tr>\n",
       "    <tr>\n",
       "      <th>263</th>\n",
       "      <td>NaN</td>\n",
       "      <td>NaN</td>\n",
       "      <td>NaN</td>\n",
       "    </tr>\n",
       "    <tr>\n",
       "      <th>264</th>\n",
       "      <td>2014.0</td>\n",
       "      <td>9.57</td>\n",
       "      <td>NaN</td>\n",
       "    </tr>\n",
       "    <tr>\n",
       "      <th>265</th>\n",
       "      <td>2015.0</td>\n",
       "      <td>9.83</td>\n",
       "      <td>NaN</td>\n",
       "    </tr>\n",
       "  </tbody>\n",
       "</table>\n",
       "<p>266 rows × 3 columns</p>\n",
       "</div>"
      ],
      "text/plain": [
       "       year  avg_temp  mov_avg_temp\n",
       "0    1808.0      7.63           NaN\n",
       "1    1809.0      7.08           NaN\n",
       "2    1810.0      6.92           NaN\n",
       "3    1811.0      6.86           NaN\n",
       "4    1812.0      7.05           NaN\n",
       "..      ...       ...           ...\n",
       "261     NaN       NaN           NaN\n",
       "262     NaN       NaN           NaN\n",
       "263     NaN       NaN           NaN\n",
       "264  2014.0      9.57           NaN\n",
       "265  2015.0      9.83           NaN\n",
       "\n",
       "[266 rows x 3 columns]"
      ]
     },
     "execution_count": 17,
     "metadata": {},
     "output_type": "execute_result"
    }
   ],
   "source": [
    "df1"
   ]
  },
  {
   "cell_type": "code",
   "execution_count": 18,
   "metadata": {},
   "outputs": [
    {
     "data": {
      "text/html": [
       "<div>\n",
       "<style scoped>\n",
       "    .dataframe tbody tr th:only-of-type {\n",
       "        vertical-align: middle;\n",
       "    }\n",
       "\n",
       "    .dataframe tbody tr th {\n",
       "        vertical-align: top;\n",
       "    }\n",
       "\n",
       "    .dataframe thead th {\n",
       "        text-align: right;\n",
       "    }\n",
       "</style>\n",
       "<table border=\"1\" class=\"dataframe\">\n",
       "  <thead>\n",
       "    <tr style=\"text-align: right;\">\n",
       "      <th></th>\n",
       "      <th>year</th>\n",
       "      <th>city</th>\n",
       "      <th>country</th>\n",
       "      <th>avg_temp</th>\n",
       "      <th>mov_avg_temp</th>\n",
       "    </tr>\n",
       "  </thead>\n",
       "  <tbody>\n",
       "    <tr>\n",
       "      <th>0</th>\n",
       "      <td>1796</td>\n",
       "      <td>Delhi</td>\n",
       "      <td>India</td>\n",
       "      <td>25.03</td>\n",
       "      <td>NaN</td>\n",
       "    </tr>\n",
       "    <tr>\n",
       "      <th>1</th>\n",
       "      <td>1797</td>\n",
       "      <td>Delhi</td>\n",
       "      <td>India</td>\n",
       "      <td>26.71</td>\n",
       "      <td>NaN</td>\n",
       "    </tr>\n",
       "    <tr>\n",
       "      <th>2</th>\n",
       "      <td>1798</td>\n",
       "      <td>Delhi</td>\n",
       "      <td>India</td>\n",
       "      <td>24.29</td>\n",
       "      <td>NaN</td>\n",
       "    </tr>\n",
       "    <tr>\n",
       "      <th>3</th>\n",
       "      <td>1799</td>\n",
       "      <td>Delhi</td>\n",
       "      <td>India</td>\n",
       "      <td>25.28</td>\n",
       "      <td>NaN</td>\n",
       "    </tr>\n",
       "    <tr>\n",
       "      <th>4</th>\n",
       "      <td>1800</td>\n",
       "      <td>Delhi</td>\n",
       "      <td>India</td>\n",
       "      <td>25.21</td>\n",
       "      <td>NaN</td>\n",
       "    </tr>\n",
       "    <tr>\n",
       "      <th>...</th>\n",
       "      <td>...</td>\n",
       "      <td>...</td>\n",
       "      <td>...</td>\n",
       "      <td>...</td>\n",
       "      <td>...</td>\n",
       "    </tr>\n",
       "    <tr>\n",
       "      <th>213</th>\n",
       "      <td>2009</td>\n",
       "      <td>Delhi</td>\n",
       "      <td>India</td>\n",
       "      <td>26.55</td>\n",
       "      <td>26.0678</td>\n",
       "    </tr>\n",
       "    <tr>\n",
       "      <th>214</th>\n",
       "      <td>2010</td>\n",
       "      <td>Delhi</td>\n",
       "      <td>India</td>\n",
       "      <td>26.52</td>\n",
       "      <td>26.0892</td>\n",
       "    </tr>\n",
       "    <tr>\n",
       "      <th>215</th>\n",
       "      <td>2011</td>\n",
       "      <td>Delhi</td>\n",
       "      <td>India</td>\n",
       "      <td>25.63</td>\n",
       "      <td>26.1082</td>\n",
       "    </tr>\n",
       "    <tr>\n",
       "      <th>216</th>\n",
       "      <td>2012</td>\n",
       "      <td>Delhi</td>\n",
       "      <td>India</td>\n",
       "      <td>25.89</td>\n",
       "      <td>26.1066</td>\n",
       "    </tr>\n",
       "    <tr>\n",
       "      <th>217</th>\n",
       "      <td>2013</td>\n",
       "      <td>Delhi</td>\n",
       "      <td>India</td>\n",
       "      <td>26.71</td>\n",
       "      <td>26.1308</td>\n",
       "    </tr>\n",
       "  </tbody>\n",
       "</table>\n",
       "<p>218 rows × 5 columns</p>\n",
       "</div>"
      ],
      "text/plain": [
       "     year   city country  avg_temp  mov_avg_temp\n",
       "0    1796  Delhi   India     25.03           NaN\n",
       "1    1797  Delhi   India     26.71           NaN\n",
       "2    1798  Delhi   India     24.29           NaN\n",
       "3    1799  Delhi   India     25.28           NaN\n",
       "4    1800  Delhi   India     25.21           NaN\n",
       "..    ...    ...     ...       ...           ...\n",
       "213  2009  Delhi   India     26.55       26.0678\n",
       "214  2010  Delhi   India     26.52       26.0892\n",
       "215  2011  Delhi   India     25.63       26.1082\n",
       "216  2012  Delhi   India     25.89       26.1066\n",
       "217  2013  Delhi   India     26.71       26.1308\n",
       "\n",
       "[218 rows x 5 columns]"
      ]
     },
     "execution_count": 18,
     "metadata": {},
     "output_type": "execute_result"
    }
   ],
   "source": [
    "df2"
   ]
  },
  {
   "cell_type": "markdown",
   "metadata": {},
   "source": [
    "## ` 4. Creating a line chart :`"
   ]
  },
  {
   "cell_type": "code",
   "execution_count": 20,
   "metadata": {},
   "outputs": [
    {
     "data": {
      "image/png": "[encoded data removed]",
      "text/plain": [
       "<Figure size 432x288 with 1 Axes>"
      ]
     },
     "metadata": {
      "needs_background": "light"
     },
     "output_type": "display_data"
    }
   ],
   "source": [
    "plt.plot(df1['year'],df1['mov_avg_temp'] , label ='Global')\n",
    "plt.plot(df2['year'],df2['mov_avg_temp'] , label = 'Delhi,India')\n",
    "plt.title('Moving Average temperature ( Global vs Delhi,India )')\n",
    "plt.xlabel('Years')\n",
    "plt.ylabel('Moving Avg. Temp')\n",
    "plt.legend()\n",
    "plt.show()"
   ]
  },
  {
   "cell_type": "markdown",
   "metadata": {},
   "source": [
    "## `5 .Observations :`"
   ]
  },
  {
   "cell_type": "markdown",
   "metadata": {},
   "source": [
    "### Similarities between Local(Delhi , India) Temperature Data and Global Temperature Data : "
   ]
  },
  {
   "cell_type": "markdown",
   "metadata": {},
   "source": [
    "- In both the data Temperature is increasing with year .\n",
    "- In both the data Year with Highest Temperature is approximately 2010-1015\n",
    "- In both the data in between 1830 - 1840 the temperature increased abruptly .\n",
    "- Rate of Global Warming has increased . Global warming is the ongoing rise of the average temperature of the Earth's climate system. It is a major aspect of climate change which, in addition to rising global surface temperatures, also includes its effects, such as changes in precipitation"
   ]
  },
  {
   "cell_type": "markdown",
   "metadata": {},
   "source": [
    "### Differences between Local(Delhi , India) Temperature Data and Global Temperature Data :"
   ]
  },
  {
   "cell_type": "markdown",
   "metadata": {},
   "source": [
    "- The average of Moving Average Temperature of LOCAL(Delhi,India) Data is approximately 25.5 wheras the average of Moving Average Temperature of GLOBAL Data is approximately 8.5\n",
    "- The average difference between the temperature of Global and Delhi Climate is very large approximately 16 degree.\n",
    "- Compare to Global Temperature , Delhi,India is one of the Hottest Region .\n",
    "- Global Temperature is increasing without any stop since approx 1970 , whereas In Delhi,India temperature is fluctuating but increasing.\n"
   ]
  },
  {
   "cell_type": "markdown",
   "metadata": {},
   "source": [
    "###  QUESTION :\n",
    "\n",
    "#### Can you estimate the average temperature in your city based on the average global temperature?\n",
    "- No we can't estimate the average temperature of out city (in my case Delhi ) based on the average global temperature , as I found a great difference between the average temperature of Global and Local Data ."
   ]
  },
  {
   "cell_type": "code",
   "execution_count": null,
   "metadata": {},
   "outputs": [],
   "source": []
  }
 ],
 "metadata": {
  "kernelspec": {
   "display_name": "Python 3",
   "language": "python",
   "name": "python3"
  },
  "language_info": {
   "codemirror_mode": {
    "name": "ipython",
    "version": 3
   },
   "file_extension": ".py",
   "mimetype": "text/x-python",
   "name": "python",
   "nbconvert_exporter": "python",
   "pygments_lexer": "ipython3",
   "version": "3.7.6"
  }
 },
 "nbformat": 4,
 "nbformat_minor": 4
}
